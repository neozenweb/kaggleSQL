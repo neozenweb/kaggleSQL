{
 "cells": [
  {
   "cell_type": "markdown",
   "id": "a984b017",
   "metadata": {
    "papermill": {
     "duration": 0.006273,
     "end_time": "2024-01-01T20:41:59.066324",
     "exception": false,
     "start_time": "2024-01-01T20:41:59.060051",
     "status": "completed"
    },
    "tags": []
   },
   "source": [
    "**This notebook is an exercise in the [SQL](https://www.kaggle.com/learn/intro-to-sql) course.  You can reference the tutorial at [this link](https://www.kaggle.com/dansbecker/getting-started-with-sql-and-bigquery).**\n",
    "\n",
    "---\n"
   ]
  },
  {
   "cell_type": "markdown",
   "id": "7f70625f",
   "metadata": {
    "papermill": {
     "duration": 0.005197,
     "end_time": "2024-01-01T20:41:59.077165",
     "exception": false,
     "start_time": "2024-01-01T20:41:59.071968",
     "status": "completed"
    },
    "tags": []
   },
   "source": [
    "# Introduction\n",
    "\n",
    "The first test of your new data exploration skills uses data describing crime in the city of Chicago.\n",
    "\n",
    "Before you get started, run the following cell. It sets up the automated feedback system to review your answers."
   ]
  },
  {
   "cell_type": "code",
   "execution_count": 1,
   "id": "89129c5d",
   "metadata": {
    "execution": {
     "iopub.execute_input": "2024-01-01T20:41:59.091540Z",
     "iopub.status.busy": "2024-01-01T20:41:59.090572Z",
     "iopub.status.idle": "2024-01-01T20:42:03.078791Z",
     "shell.execute_reply": "2024-01-01T20:42:03.077603Z"
    },
    "papermill": {
     "duration": 3.998579,
     "end_time": "2024-01-01T20:42:03.081368",
     "exception": false,
     "start_time": "2024-01-01T20:41:59.082789",
     "status": "completed"
    },
    "tags": []
   },
   "outputs": [
    {
     "name": "stdout",
     "output_type": "stream",
     "text": [
      "Using Kaggle's public dataset BigQuery integration.\n",
      "Setup Complete\n"
     ]
    }
   ],
   "source": [
    "# Set up feedack system\n",
    "from learntools.core import binder\n",
    "binder.bind(globals())\n",
    "from learntools.sql.ex1 import *\n",
    "print(\"Setup Complete\")"
   ]
  },
  {
   "cell_type": "markdown",
   "id": "8b27a7de",
   "metadata": {
    "papermill": {
     "duration": 0.005152,
     "end_time": "2024-01-01T20:42:03.092366",
     "exception": false,
     "start_time": "2024-01-01T20:42:03.087214",
     "status": "completed"
    },
    "tags": []
   },
   "source": [
    "Use the next code cell to fetch the dataset."
   ]
  },
  {
   "cell_type": "code",
   "execution_count": 2,
   "id": "f50be60b",
   "metadata": {
    "execution": {
     "iopub.execute_input": "2024-01-01T20:42:03.105495Z",
     "iopub.status.busy": "2024-01-01T20:42:03.104468Z",
     "iopub.status.idle": "2024-01-01T20:42:03.335064Z",
     "shell.execute_reply": "2024-01-01T20:42:03.333893Z"
    },
    "papermill": {
     "duration": 0.240045,
     "end_time": "2024-01-01T20:42:03.337599",
     "exception": false,
     "start_time": "2024-01-01T20:42:03.097554",
     "status": "completed"
    },
    "tags": []
   },
   "outputs": [
    {
     "name": "stdout",
     "output_type": "stream",
     "text": [
      "Using Kaggle's public dataset BigQuery integration.\n",
      "chicago_crime\n",
      "bigquery-public-data\n"
     ]
    }
   ],
   "source": [
    "from google.cloud import bigquery\n",
    "\n",
    "# Create a \"Client\" object\n",
    "client = bigquery.Client()\n",
    "\n",
    "# Construct a reference to the \"chicago_crime\" dataset\n",
    "dataset_ref = client.dataset(\"chicago_crime\", project=\"bigquery-public-data\")\n",
    "\n",
    "# API request - fetch the dataset\n",
    "dataset = client.get_dataset(dataset_ref)\n",
    "print(dataset.dataset_id)\n",
    "print(dataset.project)"
   ]
  },
  {
   "cell_type": "markdown",
   "id": "d2d86c5c",
   "metadata": {
    "papermill": {
     "duration": 0.005215,
     "end_time": "2024-01-01T20:42:03.348460",
     "exception": false,
     "start_time": "2024-01-01T20:42:03.343245",
     "status": "completed"
    },
    "tags": []
   },
   "source": []
  },
  {
   "cell_type": "markdown",
   "id": "9b17e25b",
   "metadata": {
    "papermill": {
     "duration": 0.004928,
     "end_time": "2024-01-01T20:42:03.358662",
     "exception": false,
     "start_time": "2024-01-01T20:42:03.353734",
     "status": "completed"
    },
    "tags": []
   },
   "source": [
    "# Exercises\n",
    "\n",
    "### 1) Count tables in the dataset\n",
    "\n",
    "How many tables are in the Chicago Crime dataset?"
   ]
  },
  {
   "cell_type": "code",
   "execution_count": 3,
   "id": "0e47892e",
   "metadata": {
    "execution": {
     "iopub.execute_input": "2024-01-01T20:42:03.371556Z",
     "iopub.status.busy": "2024-01-01T20:42:03.370744Z",
     "iopub.status.idle": "2024-01-01T20:42:03.375306Z",
     "shell.execute_reply": "2024-01-01T20:42:03.374591Z"
    },
    "papermill": {
     "duration": 0.013474,
     "end_time": "2024-01-01T20:42:03.377290",
     "exception": false,
     "start_time": "2024-01-01T20:42:03.363816",
     "status": "completed"
    },
    "tags": []
   },
   "outputs": [],
   "source": [
    "# Write the code you need here to figure out the answer"
   ]
  },
  {
   "cell_type": "code",
   "execution_count": 4,
   "id": "a62b0cbc",
   "metadata": {
    "execution": {
     "iopub.execute_input": "2024-01-01T20:42:03.389931Z",
     "iopub.status.busy": "2024-01-01T20:42:03.389168Z",
     "iopub.status.idle": "2024-01-01T20:42:04.616406Z",
     "shell.execute_reply": "2024-01-01T20:42:04.615105Z"
    },
    "papermill": {
     "duration": 1.236622,
     "end_time": "2024-01-01T20:42:04.619117",
     "exception": false,
     "start_time": "2024-01-01T20:42:03.382495",
     "status": "completed"
    },
    "tags": []
   },
   "outputs": [
    {
     "name": "stdout",
     "output_type": "stream",
     "text": [
      "1\n"
     ]
    },
    {
     "data": {
      "application/javascript": [
       "parent.postMessage({\"jupyterEvent\": \"custom.exercise_interaction\", \"data\": {\"outcomeType\": 1, \"valueTowardsCompletion\": 0.3333333333333333, \"interactionType\": 1, \"questionType\": 1, \"questionId\": \"1_CountTables\", \"learnToolsVersion\": \"0.3.4\", \"failureMessage\": \"\", \"exceptionClass\": \"\", \"trace\": \"\"}}, \"*\")"
      ],
      "text/plain": [
       "<IPython.core.display.Javascript object>"
      ]
     },
     "metadata": {},
     "output_type": "display_data"
    },
    {
     "data": {
      "text/markdown": [
       "<span style=\"color:#33cc33\">Correct</span>"
      ],
      "text/plain": [
       "Correct"
      ]
     },
     "metadata": {},
     "output_type": "display_data"
    }
   ],
   "source": [
    "query_results = client.query(('SELECT COUNT(*) AS COUNT FROM   `{}.{}.INFORMATION_SCHEMA.TABLES`'.format(dataset.project, dataset.dataset_id))).result() # Store the answer as num_tables and then run this cell\n",
    "# for row in query_results:\n",
    "#     num_tables =  row.COUNT\n",
    "# print(num_tables)\n",
    "num_tables = len(list(client.list_tables(dataset)))\n",
    "print(num_tables)\n",
    "# Check your answer\n",
    "q_1.check()"
   ]
  },
  {
   "cell_type": "markdown",
   "id": "b050daa3",
   "metadata": {
    "papermill": {
     "duration": 0.006638,
     "end_time": "2024-01-01T20:42:04.632926",
     "exception": false,
     "start_time": "2024-01-01T20:42:04.626288",
     "status": "completed"
    },
    "tags": []
   },
   "source": [
    "For a hint or the solution, uncomment the appropriate line below."
   ]
  },
  {
   "cell_type": "code",
   "execution_count": 5,
   "id": "bbed36d2",
   "metadata": {
    "execution": {
     "iopub.execute_input": "2024-01-01T20:42:04.647854Z",
     "iopub.status.busy": "2024-01-01T20:42:04.647338Z",
     "iopub.status.idle": "2024-01-01T20:42:04.658620Z",
     "shell.execute_reply": "2024-01-01T20:42:04.657803Z"
    },
    "papermill": {
     "duration": 0.021491,
     "end_time": "2024-01-01T20:42:04.660629",
     "exception": false,
     "start_time": "2024-01-01T20:42:04.639138",
     "status": "completed"
    },
    "tags": []
   },
   "outputs": [
    {
     "data": {
      "application/javascript": [
       "parent.postMessage({\"jupyterEvent\": \"custom.exercise_interaction\", \"data\": {\"interactionType\": 2, \"questionType\": 1, \"questionId\": \"1_CountTables\", \"learnToolsVersion\": \"0.3.4\", \"valueTowardsCompletion\": 0.0, \"failureMessage\": \"\", \"exceptionClass\": \"\", \"trace\": \"\", \"outcomeType\": 4}}, \"*\")"
      ],
      "text/plain": [
       "<IPython.core.display.Javascript object>"
      ]
     },
     "metadata": {},
     "output_type": "display_data"
    },
    {
     "data": {
      "text/markdown": [
       "<span style=\"color:#3366cc\">Hint:</span> Use the `list_tables()` method to get a list of the tables in the dataset."
      ],
      "text/plain": [
       "Hint: Use the `list_tables()` method to get a list of the tables in the dataset."
      ]
     },
     "metadata": {},
     "output_type": "display_data"
    },
    {
     "data": {
      "application/javascript": [
       "parent.postMessage({\"jupyterEvent\": \"custom.exercise_interaction\", \"data\": {\"interactionType\": 3, \"questionType\": 1, \"questionId\": \"1_CountTables\", \"learnToolsVersion\": \"0.3.4\", \"valueTowardsCompletion\": 0.0, \"failureMessage\": \"\", \"exceptionClass\": \"\", \"trace\": \"\", \"outcomeType\": 4}}, \"*\")"
      ],
      "text/plain": [
       "<IPython.core.display.Javascript object>"
      ]
     },
     "metadata": {},
     "output_type": "display_data"
    },
    {
     "data": {
      "text/markdown": [
       "<span style=\"color:#33cc99\">Solution:</span> \n",
       "```python\n",
       "\n",
       "# List all the tables in the \"chicago_crime\" dataset\n",
       "tables = list(client.list_tables(dataset))\n",
       "\n",
       "# Print number of tables in the dataset\n",
       "print(len(tables))\n",
       "\n",
       "num_tables = 1\n",
       "\n",
       "```"
      ],
      "text/plain": [
       "Solution: \n",
       "```python\n",
       "\n",
       "# List all the tables in the \"chicago_crime\" dataset\n",
       "tables = list(client.list_tables(dataset))\n",
       "\n",
       "# Print number of tables in the dataset\n",
       "print(len(tables))\n",
       "\n",
       "num_tables = 1\n",
       "\n",
       "```"
      ]
     },
     "metadata": {},
     "output_type": "display_data"
    }
   ],
   "source": [
    "q_1.hint()\n",
    "q_1.solution()"
   ]
  },
  {
   "cell_type": "markdown",
   "id": "c18bfb3f",
   "metadata": {
    "papermill": {
     "duration": 0.007689,
     "end_time": "2024-01-01T20:42:04.675082",
     "exception": false,
     "start_time": "2024-01-01T20:42:04.667393",
     "status": "completed"
    },
    "tags": []
   },
   "source": [
    "### 2) Explore the table schema\n",
    "\n",
    "How many columns in the `crime` table have `TIMESTAMP` data?"
   ]
  },
  {
   "cell_type": "code",
   "execution_count": 6,
   "id": "592fef95",
   "metadata": {
    "execution": {
     "iopub.execute_input": "2024-01-01T20:42:04.692231Z",
     "iopub.status.busy": "2024-01-01T20:42:04.691338Z",
     "iopub.status.idle": "2024-01-01T20:42:04.696090Z",
     "shell.execute_reply": "2024-01-01T20:42:04.695274Z"
    },
    "papermill": {
     "duration": 0.017092,
     "end_time": "2024-01-01T20:42:04.699824",
     "exception": false,
     "start_time": "2024-01-01T20:42:04.682732",
     "status": "completed"
    },
    "tags": []
   },
   "outputs": [],
   "source": [
    "# Write the code to figure out the answer"
   ]
  },
  {
   "cell_type": "code",
   "execution_count": 7,
   "id": "8d727182",
   "metadata": {
    "execution": {
     "iopub.execute_input": "2024-01-01T20:42:04.722716Z",
     "iopub.status.busy": "2024-01-01T20:42:04.721618Z",
     "iopub.status.idle": "2024-01-01T20:42:04.967999Z",
     "shell.execute_reply": "2024-01-01T20:42:04.966861Z"
    },
    "papermill": {
     "duration": 0.260985,
     "end_time": "2024-01-01T20:42:04.970930",
     "exception": false,
     "start_time": "2024-01-01T20:42:04.709945",
     "status": "completed"
    },
    "tags": []
   },
   "outputs": [
    {
     "name": "stdout",
     "output_type": "stream",
     "text": [
      "SchemaField('unique_key', 'INTEGER', 'REQUIRED', None, (), None)\n",
      "SchemaField('case_number', 'STRING', 'NULLABLE', None, (), None)\n",
      "SchemaField('date', 'TIMESTAMP', 'NULLABLE', None, (), None)\n",
      "SchemaField('block', 'STRING', 'NULLABLE', None, (), None)\n",
      "SchemaField('iucr', 'STRING', 'NULLABLE', None, (), None)\n",
      "SchemaField('primary_type', 'STRING', 'NULLABLE', None, (), None)\n",
      "SchemaField('description', 'STRING', 'NULLABLE', None, (), None)\n",
      "SchemaField('location_description', 'STRING', 'NULLABLE', None, (), None)\n",
      "SchemaField('arrest', 'BOOLEAN', 'NULLABLE', None, (), None)\n",
      "SchemaField('domestic', 'BOOLEAN', 'NULLABLE', None, (), None)\n",
      "SchemaField('beat', 'INTEGER', 'NULLABLE', None, (), None)\n",
      "SchemaField('district', 'INTEGER', 'NULLABLE', None, (), None)\n",
      "SchemaField('ward', 'INTEGER', 'NULLABLE', None, (), None)\n",
      "SchemaField('community_area', 'INTEGER', 'NULLABLE', None, (), None)\n",
      "SchemaField('fbi_code', 'STRING', 'NULLABLE', None, (), None)\n",
      "SchemaField('x_coordinate', 'FLOAT', 'NULLABLE', None, (), None)\n",
      "SchemaField('y_coordinate', 'FLOAT', 'NULLABLE', None, (), None)\n",
      "SchemaField('year', 'INTEGER', 'NULLABLE', None, (), None)\n",
      "SchemaField('updated_on', 'TIMESTAMP', 'NULLABLE', None, (), None)\n",
      "SchemaField('latitude', 'FLOAT', 'NULLABLE', None, (), None)\n",
      "SchemaField('longitude', 'FLOAT', 'NULLABLE', None, (), None)\n",
      "SchemaField('location', 'STRING', 'NULLABLE', None, (), None)\n",
      "2\n"
     ]
    },
    {
     "data": {
      "application/javascript": [
       "parent.postMessage({\"jupyterEvent\": \"custom.exercise_interaction\", \"data\": {\"outcomeType\": 1, \"valueTowardsCompletion\": 0.3333333333333333, \"interactionType\": 1, \"questionType\": 1, \"questionId\": \"2_CountTimestampFields\", \"learnToolsVersion\": \"0.3.4\", \"failureMessage\": \"\", \"exceptionClass\": \"\", \"trace\": \"\"}}, \"*\")"
      ],
      "text/plain": [
       "<IPython.core.display.Javascript object>"
      ]
     },
     "metadata": {},
     "output_type": "display_data"
    },
    {
     "data": {
      "text/markdown": [
       "<span style=\"color:#33cc33\">Correct</span>"
      ],
      "text/plain": [
       "Correct"
      ]
     },
     "metadata": {},
     "output_type": "display_data"
    }
   ],
   "source": [
    "table_ref = dataset_ref.table('crime')\n",
    "table = client.get_table(table_ref)\n",
    "num_timestamp_fields = 0\n",
    "for sch in table.schema:\n",
    "    print(sch)\n",
    "    if str(sch).find('TIMESTAMP') > 0:\n",
    "        num_timestamp_fields+= 1\n",
    "print(num_timestamp_fields)\n",
    "# Check your answer\n",
    "q_2.check()"
   ]
  },
  {
   "cell_type": "markdown",
   "id": "97b95f7d",
   "metadata": {
    "papermill": {
     "duration": 0.006818,
     "end_time": "2024-01-01T20:42:04.984922",
     "exception": false,
     "start_time": "2024-01-01T20:42:04.978104",
     "status": "completed"
    },
    "tags": []
   },
   "source": [
    "For a hint or the solution, uncomment the appropriate line below."
   ]
  },
  {
   "cell_type": "code",
   "execution_count": 8,
   "id": "980cf5e6",
   "metadata": {
    "execution": {
     "iopub.execute_input": "2024-01-01T20:42:05.003453Z",
     "iopub.status.busy": "2024-01-01T20:42:05.002947Z",
     "iopub.status.idle": "2024-01-01T20:42:05.015939Z",
     "shell.execute_reply": "2024-01-01T20:42:05.014929Z"
    },
    "papermill": {
     "duration": 0.02623,
     "end_time": "2024-01-01T20:42:05.017943",
     "exception": false,
     "start_time": "2024-01-01T20:42:04.991713",
     "status": "completed"
    },
    "tags": []
   },
   "outputs": [
    {
     "data": {
      "application/javascript": [
       "parent.postMessage({\"jupyterEvent\": \"custom.exercise_interaction\", \"data\": {\"interactionType\": 2, \"questionType\": 1, \"questionId\": \"2_CountTimestampFields\", \"learnToolsVersion\": \"0.3.4\", \"valueTowardsCompletion\": 0.0, \"failureMessage\": \"\", \"exceptionClass\": \"\", \"trace\": \"\", \"outcomeType\": 4}}, \"*\")"
      ],
      "text/plain": [
       "<IPython.core.display.Javascript object>"
      ]
     },
     "metadata": {},
     "output_type": "display_data"
    },
    {
     "data": {
      "text/markdown": [
       "<span style=\"color:#3366cc\">Hint:</span> Begin by fetching the `crime` table. Then take a look at the table schema, and check the field type of each column.  How many times does `'TIMESTAMP'` appear?"
      ],
      "text/plain": [
       "Hint: Begin by fetching the `crime` table. Then take a look at the table schema, and check the field type of each column.  How many times does `'TIMESTAMP'` appear?"
      ]
     },
     "metadata": {},
     "output_type": "display_data"
    },
    {
     "data": {
      "application/javascript": [
       "parent.postMessage({\"jupyterEvent\": \"custom.exercise_interaction\", \"data\": {\"interactionType\": 3, \"questionType\": 1, \"questionId\": \"2_CountTimestampFields\", \"learnToolsVersion\": \"0.3.4\", \"valueTowardsCompletion\": 0.0, \"failureMessage\": \"\", \"exceptionClass\": \"\", \"trace\": \"\", \"outcomeType\": 4}}, \"*\")"
      ],
      "text/plain": [
       "<IPython.core.display.Javascript object>"
      ]
     },
     "metadata": {},
     "output_type": "display_data"
    },
    {
     "data": {
      "text/markdown": [
       "<span style=\"color:#33cc99\">Solution:</span> \n",
       "```python\n",
       "\n",
       "# Construct a reference to the \"crime\" table\n",
       "table_ref = dataset_ref.table(\"crime\")\n",
       "\n",
       "# API request - fetch the table\n",
       "table = client.get_table(table_ref)\n",
       "\n",
       "# Print information on all the columns in the \"crime\" table in the \"chicago_crime\" dataset\n",
       "print(table.schema)\n",
       "\n",
       "num_timestamp_fields = 2\n",
       "\n",
       "```"
      ],
      "text/plain": [
       "Solution: \n",
       "```python\n",
       "\n",
       "# Construct a reference to the \"crime\" table\n",
       "table_ref = dataset_ref.table(\"crime\")\n",
       "\n",
       "# API request - fetch the table\n",
       "table = client.get_table(table_ref)\n",
       "\n",
       "# Print information on all the columns in the \"crime\" table in the \"chicago_crime\" dataset\n",
       "print(table.schema)\n",
       "\n",
       "num_timestamp_fields = 2\n",
       "\n",
       "```"
      ]
     },
     "metadata": {},
     "output_type": "display_data"
    }
   ],
   "source": [
    "q_2.hint()\n",
    "q_2.solution()"
   ]
  },
  {
   "cell_type": "markdown",
   "id": "81905c9f",
   "metadata": {
    "papermill": {
     "duration": 0.008,
     "end_time": "2024-01-01T20:42:05.033614",
     "exception": false,
     "start_time": "2024-01-01T20:42:05.025614",
     "status": "completed"
    },
    "tags": []
   },
   "source": [
    "### 3) Create a crime map\n",
    "\n",
    "If you wanted to create a map with a dot at the location of each crime, what are the names of the two fields you likely need to pull out of the `crime` table to plot the crimes on a map?"
   ]
  },
  {
   "cell_type": "code",
   "execution_count": 9,
   "id": "200e460b",
   "metadata": {
    "execution": {
     "iopub.execute_input": "2024-01-01T20:42:05.052260Z",
     "iopub.status.busy": "2024-01-01T20:42:05.050964Z",
     "iopub.status.idle": "2024-01-01T20:42:05.055913Z",
     "shell.execute_reply": "2024-01-01T20:42:05.055048Z"
    },
    "papermill": {
     "duration": 0.016646,
     "end_time": "2024-01-01T20:42:05.057929",
     "exception": false,
     "start_time": "2024-01-01T20:42:05.041283",
     "status": "completed"
    },
    "tags": []
   },
   "outputs": [],
   "source": [
    "# Write the code here to explore the data so you can find the answer"
   ]
  },
  {
   "cell_type": "code",
   "execution_count": 10,
   "id": "5ff66258",
   "metadata": {
    "execution": {
     "iopub.execute_input": "2024-01-01T20:42:05.075957Z",
     "iopub.status.busy": "2024-01-01T20:42:05.075083Z",
     "iopub.status.idle": "2024-01-01T20:42:05.085283Z",
     "shell.execute_reply": "2024-01-01T20:42:05.084074Z"
    },
    "papermill": {
     "duration": 0.021717,
     "end_time": "2024-01-01T20:42:05.087453",
     "exception": false,
     "start_time": "2024-01-01T20:42:05.065736",
     "status": "completed"
    },
    "tags": []
   },
   "outputs": [
    {
     "data": {
      "application/javascript": [
       "parent.postMessage({\"jupyterEvent\": \"custom.exercise_interaction\", \"data\": {\"outcomeType\": 1, \"valueTowardsCompletion\": 0.3333333333333333, \"interactionType\": 1, \"questionType\": 2, \"questionId\": \"3_IdentifyFieldsForPlotting\", \"learnToolsVersion\": \"0.3.4\", \"failureMessage\": \"\", \"exceptionClass\": \"\", \"trace\": \"\"}}, \"*\")"
      ],
      "text/plain": [
       "<IPython.core.display.Javascript object>"
      ]
     },
     "metadata": {},
     "output_type": "display_data"
    },
    {
     "data": {
      "text/markdown": [
       "<span style=\"color:#33cc33\">Correct</span>"
      ],
      "text/plain": [
       "Correct"
      ]
     },
     "metadata": {},
     "output_type": "display_data"
    }
   ],
   "source": [
    "fields_for_plotting = ['latitude', 'longitude'] # Put your answers here\n",
    "\n",
    "# Check your answer\n",
    "q_3.check()"
   ]
  },
  {
   "cell_type": "markdown",
   "id": "75a24a85",
   "metadata": {
    "papermill": {
     "duration": 0.007355,
     "end_time": "2024-01-01T20:42:05.102649",
     "exception": false,
     "start_time": "2024-01-01T20:42:05.095294",
     "status": "completed"
    },
    "tags": []
   },
   "source": [
    "For a hint or the solution, uncomment the appropriate line below."
   ]
  },
  {
   "cell_type": "code",
   "execution_count": 11,
   "id": "c9972b48",
   "metadata": {
    "execution": {
     "iopub.execute_input": "2024-01-01T20:42:05.120621Z",
     "iopub.status.busy": "2024-01-01T20:42:05.119848Z",
     "iopub.status.idle": "2024-01-01T20:42:05.132394Z",
     "shell.execute_reply": "2024-01-01T20:42:05.131268Z"
    },
    "papermill": {
     "duration": 0.023894,
     "end_time": "2024-01-01T20:42:05.134402",
     "exception": false,
     "start_time": "2024-01-01T20:42:05.110508",
     "status": "completed"
    },
    "tags": []
   },
   "outputs": [
    {
     "data": {
      "application/javascript": [
       "parent.postMessage({\"jupyterEvent\": \"custom.exercise_interaction\", \"data\": {\"interactionType\": 2, \"questionType\": 2, \"questionId\": \"3_IdentifyFieldsForPlotting\", \"learnToolsVersion\": \"0.3.4\", \"valueTowardsCompletion\": 0.0, \"failureMessage\": \"\", \"exceptionClass\": \"\", \"trace\": \"\", \"outcomeType\": 4}}, \"*\")"
      ],
      "text/plain": [
       "<IPython.core.display.Javascript object>"
      ]
     },
     "metadata": {},
     "output_type": "display_data"
    },
    {
     "data": {
      "text/markdown": [
       "<span style=\"color:#3366cc\">Hint:</span> Look at the table schema.  There are a couple options, but two of the fields are things commonly used to plot on maps. Both are `'FLOAT'` types. Use quotes around the field names in your answer."
      ],
      "text/plain": [
       "Hint: Look at the table schema.  There are a couple options, but two of the fields are things commonly used to plot on maps. Both are `'FLOAT'` types. Use quotes around the field names in your answer."
      ]
     },
     "metadata": {},
     "output_type": "display_data"
    },
    {
     "data": {
      "application/javascript": [
       "parent.postMessage({\"jupyterEvent\": \"custom.exercise_interaction\", \"data\": {\"interactionType\": 3, \"questionType\": 2, \"questionId\": \"3_IdentifyFieldsForPlotting\", \"learnToolsVersion\": \"0.3.4\", \"valueTowardsCompletion\": 0.0, \"failureMessage\": \"\", \"exceptionClass\": \"\", \"trace\": \"\", \"outcomeType\": 4}}, \"*\")"
      ],
      "text/plain": [
       "<IPython.core.display.Javascript object>"
      ]
     },
     "metadata": {},
     "output_type": "display_data"
    },
    {
     "data": {
      "text/markdown": [
       "<span style=\"color:#33cc99\">Solution:</span> \n",
       "```python\n",
       "fields_for_plotting = ['latitude', 'longitude']\n",
       "```"
      ],
      "text/plain": [
       "Solution: \n",
       "```python\n",
       "fields_for_plotting = ['latitude', 'longitude']\n",
       "```"
      ]
     },
     "metadata": {},
     "output_type": "display_data"
    }
   ],
   "source": [
    "q_3.hint()\n",
    "q_3.solution()"
   ]
  },
  {
   "cell_type": "markdown",
   "id": "41b3c7ec",
   "metadata": {
    "papermill": {
     "duration": 0.00774,
     "end_time": "2024-01-01T20:42:05.150317",
     "exception": false,
     "start_time": "2024-01-01T20:42:05.142577",
     "status": "completed"
    },
    "tags": []
   },
   "source": [
    "Thinking about the question above, there are a few columns that appear to have geographic data. Look at a few values (with the `list_rows()` command) to see if you can determine their relationship.  Two columns will still be hard to interpret. But it should be obvious how the `location` column relates to `latitude` and `longitude`."
   ]
  },
  {
   "cell_type": "code",
   "execution_count": 12,
   "id": "64bea78e",
   "metadata": {
    "execution": {
     "iopub.execute_input": "2024-01-01T20:42:05.168693Z",
     "iopub.status.busy": "2024-01-01T20:42:05.167935Z",
     "iopub.status.idle": "2024-01-01T20:42:05.172452Z",
     "shell.execute_reply": "2024-01-01T20:42:05.171740Z"
    },
    "papermill": {
     "duration": 0.016076,
     "end_time": "2024-01-01T20:42:05.174308",
     "exception": false,
     "start_time": "2024-01-01T20:42:05.158232",
     "status": "completed"
    },
    "tags": []
   },
   "outputs": [],
   "source": [
    "# Scratch space for your code"
   ]
  },
  {
   "cell_type": "markdown",
   "id": "2d3c3a4a",
   "metadata": {
    "papermill": {
     "duration": 0.00786,
     "end_time": "2024-01-01T20:42:05.190120",
     "exception": false,
     "start_time": "2024-01-01T20:42:05.182260",
     "status": "completed"
    },
    "tags": []
   },
   "source": [
    "# Keep going\n",
    "\n",
    "You've looked at the schema, but you haven't yet done anything exciting with the data itself. Things get more interesting when you get to the data, so keep going to **[write your first SQL query](https://www.kaggle.com/dansbecker/select-from-where).**"
   ]
  },
  {
   "cell_type": "markdown",
   "id": "0ed173ea",
   "metadata": {
    "papermill": {
     "duration": 0.007489,
     "end_time": "2024-01-01T20:42:05.205447",
     "exception": false,
     "start_time": "2024-01-01T20:42:05.197958",
     "status": "completed"
    },
    "tags": []
   },
   "source": [
    "---\n",
    "\n",
    "\n",
    "\n",
    "\n",
    "*Have questions or comments? Visit the [course discussion forum](https://www.kaggle.com/learn/intro-to-sql/discussion) to chat with other learners.*"
   ]
  }
 ],
 "metadata": {
  "kaggle": {
   "accelerator": "none",
   "dataSources": [
    {
     "datasetId": 22090,
     "sourceId": 28376,
     "sourceType": "datasetVersion"
    },
    {
     "datasetId": 6057,
     "sourceId": 285982,
     "sourceType": "datasetVersion"
    }
   ],
   "isGpuEnabled": false,
   "isInternetEnabled": false,
   "language": "python",
   "sourceType": "notebook"
  },
  "kernelspec": {
   "display_name": "Python 3",
   "language": "python",
   "name": "python3"
  },
  "language_info": {
   "codemirror_mode": {
    "name": "ipython",
    "version": 3
   },
   "file_extension": ".py",
   "mimetype": "text/x-python",
   "name": "python",
   "nbconvert_exporter": "python",
   "pygments_lexer": "ipython3",
   "version": "3.10.12"
  },
  "papermill": {
   "default_parameters": {},
   "duration": 10.40491,
   "end_time": "2024-01-01T20:42:06.236473",
   "environment_variables": {},
   "exception": null,
   "input_path": "__notebook__.ipynb",
   "output_path": "__notebook__.ipynb",
   "parameters": {},
   "start_time": "2024-01-01T20:41:55.831563",
   "version": "2.4.0"
  }
 },
 "nbformat": 4,
 "nbformat_minor": 5
}
